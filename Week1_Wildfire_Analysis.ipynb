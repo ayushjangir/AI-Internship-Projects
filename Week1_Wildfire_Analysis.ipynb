{
  "nbformat": 4,
  "nbformat_minor": 0,
  "metadata": {
    "colab": {
      "provenance": []
    },
    "kernelspec": {
      "name": "python3",
      "display_name": "Python 3"
    },
    "language_info": {
      "name": "python"
    }
  },
  "cells": [
    {
      "cell_type": "code",
      "execution_count": 1,
      "metadata": {
        "id": "Ee8GLoWAgxdr",
        "colab": {
          "base_uri": "https://localhost:8080/"
        },
        "outputId": "8453009b-d60c-4f76-bf7d-c70e35555554"
      },
      "outputs": [
        {
          "output_type": "stream",
          "name": "stdout",
          "text": [
            "--- First 5 Rows of the Dataset ---\n",
            "   X  Y month  day  FFMC   DMC     DC  ISI  temp  RH  wind  rain  area\n",
            "0  7  5   mar  fri  86.2  26.2   94.3  5.1   8.2  51   6.7   0.0   0.0\n",
            "1  7  4   oct  tue  90.6  35.4  669.1  6.7  18.0  33   0.9   0.0   0.0\n",
            "2  7  4   oct  sat  90.6  43.7  686.9  6.7  14.6  33   1.3   0.0   0.0\n",
            "3  8  6   mar  fri  91.7  33.3   77.5  9.0   8.3  97   4.0   0.2   0.0\n",
            "4  8  6   mar  sun  89.3  51.3  102.2  9.6  11.4  99   1.8   0.0   0.0\n",
            "\n",
            "--- Dataset Info ---\n",
            "<class 'pandas.core.frame.DataFrame'>\n",
            "RangeIndex: 517 entries, 0 to 516\n",
            "Data columns (total 13 columns):\n",
            " #   Column  Non-Null Count  Dtype  \n",
            "---  ------  --------------  -----  \n",
            " 0   X       517 non-null    int64  \n",
            " 1   Y       517 non-null    int64  \n",
            " 2   month   517 non-null    object \n",
            " 3   day     517 non-null    object \n",
            " 4   FFMC    517 non-null    float64\n",
            " 5   DMC     517 non-null    float64\n",
            " 6   DC      517 non-null    float64\n",
            " 7   ISI     517 non-null    float64\n",
            " 8   temp    517 non-null    float64\n",
            " 9   RH      517 non-null    int64  \n",
            " 10  wind    517 non-null    float64\n",
            " 11  rain    517 non-null    float64\n",
            " 12  area    517 non-null    float64\n",
            "dtypes: float64(8), int64(3), object(2)\n",
            "memory usage: 52.6+ KB\n",
            "\n",
            "--- Statistical Summary ---\n",
            "                X           Y        FFMC         DMC          DC         ISI  \\\n",
            "count  517.000000  517.000000  517.000000  517.000000  517.000000  517.000000   \n",
            "mean     4.669246    4.299807   90.644681  110.872340  547.940039    9.021663   \n",
            "std      2.313778    1.229900    5.520111   64.046482  248.066192    4.559477   \n",
            "min      1.000000    2.000000   18.700000    1.100000    7.900000    0.000000   \n",
            "25%      3.000000    4.000000   90.200000   68.600000  437.700000    6.500000   \n",
            "50%      4.000000    4.000000   91.600000  108.300000  664.200000    8.400000   \n",
            "75%      7.000000    5.000000   92.900000  142.400000  713.900000   10.800000   \n",
            "max      9.000000    9.000000   96.200000  291.300000  860.600000   56.100000   \n",
            "\n",
            "             temp          RH        wind        rain         area  \n",
            "count  517.000000  517.000000  517.000000  517.000000   517.000000  \n",
            "mean    18.889168   44.288201    4.017602    0.021663    12.847292  \n",
            "std      5.806625   16.317469    1.791653    0.295959    63.655818  \n",
            "min      2.200000   15.000000    0.400000    0.000000     0.000000  \n",
            "25%     15.500000   33.000000    2.700000    0.000000     0.000000  \n",
            "50%     19.300000   42.000000    4.000000    0.000000     0.520000  \n",
            "75%     22.800000   53.000000    4.900000    0.000000     6.570000  \n",
            "max     33.300000  100.000000    9.400000    6.400000  1090.840000  \n",
            "\n",
            "--- Missing Values Check ---\n",
            "X        0\n",
            "Y        0\n",
            "month    0\n",
            "day      0\n",
            "FFMC     0\n",
            "DMC      0\n",
            "DC       0\n",
            "ISI      0\n",
            "temp     0\n",
            "RH       0\n",
            "wind     0\n",
            "rain     0\n",
            "area     0\n",
            "dtype: int64\n"
          ]
        }
      ],
      "source": [
        "import pandas as pd\n",
        "\n",
        "file_name = '/content/drive/MyDrive/Colab Notebooks/forestfires.csv'\n",
        "df = pd.read_csv(file_name, encoding='latin-1')\n",
        "\n",
        "print(\"--- First 5 Rows of the Dataset ---\")\n",
        "print(df.head())\n",
        "\n",
        "print(\"\\n--- Dataset Info ---\")\n",
        "df.info()\n",
        "\n",
        "print(\"\\n--- Statistical Summary ---\")\n",
        "print(df.describe())\n",
        "\n",
        "print(\"\\n--- Missing Values Check ---\")\n",
        "print(df.isnull().sum())"
      ]
    }
  ]
}